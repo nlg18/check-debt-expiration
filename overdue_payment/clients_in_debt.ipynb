{
 "cells": [
  {
   "cell_type": "markdown",
   "metadata": {},
   "source": [
    "# Monitoring of payment's deadlines\n",
    "\n",
    "### what this code do:\n",
    "- gets a database of clients\n",
    "- calculates whether the fine has expired\n",
    "- writes a email for each client saying: (expire in 'n' days) OR (expired 'n' days ago + fine price)\n",
    "- **PLUS: [Statistics](#statistics) about clients in debt**"
   ]
  },
  {
   "cell_type": "code",
   "execution_count": 154,
   "metadata": {
    "id": "Y-eaEx0Dbzj8"
   },
   "outputs": [],
   "source": [
    "def deadline(day, month, year):\n",
    "    \n",
    "    date = datetime.date.today()\n",
    "\n",
    "    if year < date.year:\n",
    "        return True\n",
    "    elif year > date.year:\n",
    "        return False\n",
    "    elif month < date.month:\n",
    "        return True \n",
    "    elif month > date.month:\n",
    "        return False\n",
    "    elif day < date.day:\n",
    "        return True \n",
    "    elif day >= date.day:\n",
    "        return False\n",
    "\n",
    "def calc_debt(value, days_delayed):\n",
    "    total = value * (1 + 0.02 + (days_delayed * 0.00016))\n",
    "    return total - value"
   ]
  },
  {
   "cell_type": "code",
   "execution_count": 155,
   "metadata": {},
   "outputs": [],
   "source": [
    "import pandas as pd\n",
    "import datetime "
   ]
  },
  {
   "cell_type": "code",
   "execution_count": 156,
   "metadata": {
    "colab": {
     "base_uri": "https://localhost:8080/"
    },
    "id": "l2Nail3JazY4",
    "outputId": "3b568efa-2cdc-49b8-b55e-9f6612e9c0b5"
   },
   "outputs": [],
   "source": [
    "# client data\n",
    "names = ['Anna', 'Peter', 'John', 'Dave', 'Jessie', 'James', 'Maarshall', 'Barney', 'Amy', 'Sophie', 'Nicolas']\n",
    "domain = \"@gmail.com\"\n",
    "email_list = [name.lower() + domain for name in names]\n",
    "value = 1800\n",
    "\n",
    "new_row = {'client_id': ['123', '456', '789', '101', '112', '131', '415', '161', '718', '192', '221'], 'client_name': names, 'expire_date': ['01/03/2023', '03/09/2023', '05/12/2023', '06/11/2023', '07/02/2023', '09/03/2023', '22/04/2023', '28/11/2022', '24/05/2023', '18/07/2023', '17/10/2023'], 'value': value, 'email': email_list}"
   ]
  },
  {
   "cell_type": "code",
   "execution_count": 157,
   "metadata": {
    "id": "VxCtv3UDAOMb"
   },
   "outputs": [
    {
     "data": {
      "text/html": [
       "<div>\n",
       "<style scoped>\n",
       "    .dataframe tbody tr th:only-of-type {\n",
       "        vertical-align: middle;\n",
       "    }\n",
       "\n",
       "    .dataframe tbody tr th {\n",
       "        vertical-align: top;\n",
       "    }\n",
       "\n",
       "    .dataframe thead th {\n",
       "        text-align: right;\n",
       "    }\n",
       "</style>\n",
       "<table border=\"1\" class=\"dataframe\">\n",
       "  <thead>\n",
       "    <tr style=\"text-align: right;\">\n",
       "      <th></th>\n",
       "      <th>client_id</th>\n",
       "      <th>client_name</th>\n",
       "      <th>expire_date</th>\n",
       "      <th>value</th>\n",
       "      <th>email</th>\n",
       "    </tr>\n",
       "  </thead>\n",
       "  <tbody>\n",
       "    <tr>\n",
       "      <th>0</th>\n",
       "      <td>123</td>\n",
       "      <td>Anna</td>\n",
       "      <td>01/03/2023</td>\n",
       "      <td>1800</td>\n",
       "      <td>anna@gmail.com</td>\n",
       "    </tr>\n",
       "    <tr>\n",
       "      <th>1</th>\n",
       "      <td>456</td>\n",
       "      <td>Peter</td>\n",
       "      <td>03/09/2023</td>\n",
       "      <td>1800</td>\n",
       "      <td>peter@gmail.com</td>\n",
       "    </tr>\n",
       "    <tr>\n",
       "      <th>2</th>\n",
       "      <td>789</td>\n",
       "      <td>John</td>\n",
       "      <td>05/12/2023</td>\n",
       "      <td>1800</td>\n",
       "      <td>john@gmail.com</td>\n",
       "    </tr>\n",
       "    <tr>\n",
       "      <th>3</th>\n",
       "      <td>101</td>\n",
       "      <td>Dave</td>\n",
       "      <td>06/11/2023</td>\n",
       "      <td>1800</td>\n",
       "      <td>dave@gmail.com</td>\n",
       "    </tr>\n",
       "    <tr>\n",
       "      <th>4</th>\n",
       "      <td>112</td>\n",
       "      <td>Jessie</td>\n",
       "      <td>07/02/2023</td>\n",
       "      <td>1800</td>\n",
       "      <td>jessie@gmail.com</td>\n",
       "    </tr>\n",
       "    <tr>\n",
       "      <th>5</th>\n",
       "      <td>131</td>\n",
       "      <td>James</td>\n",
       "      <td>09/03/2023</td>\n",
       "      <td>1800</td>\n",
       "      <td>james@gmail.com</td>\n",
       "    </tr>\n",
       "    <tr>\n",
       "      <th>6</th>\n",
       "      <td>415</td>\n",
       "      <td>Maarshall</td>\n",
       "      <td>22/04/2023</td>\n",
       "      <td>1800</td>\n",
       "      <td>maarshall@gmail.com</td>\n",
       "    </tr>\n",
       "    <tr>\n",
       "      <th>7</th>\n",
       "      <td>161</td>\n",
       "      <td>Barney</td>\n",
       "      <td>28/11/2022</td>\n",
       "      <td>1800</td>\n",
       "      <td>barney@gmail.com</td>\n",
       "    </tr>\n",
       "    <tr>\n",
       "      <th>8</th>\n",
       "      <td>718</td>\n",
       "      <td>Amy</td>\n",
       "      <td>24/05/2023</td>\n",
       "      <td>1800</td>\n",
       "      <td>amy@gmail.com</td>\n",
       "    </tr>\n",
       "    <tr>\n",
       "      <th>9</th>\n",
       "      <td>192</td>\n",
       "      <td>Sophie</td>\n",
       "      <td>18/07/2023</td>\n",
       "      <td>1800</td>\n",
       "      <td>sophie@gmail.com</td>\n",
       "    </tr>\n",
       "    <tr>\n",
       "      <th>10</th>\n",
       "      <td>221</td>\n",
       "      <td>Nicolas</td>\n",
       "      <td>17/10/2023</td>\n",
       "      <td>1800</td>\n",
       "      <td>nicolas@gmail.com</td>\n",
       "    </tr>\n",
       "  </tbody>\n",
       "</table>\n",
       "</div>"
      ],
      "text/plain": [
       "   client_id client_name expire_date  value                email\n",
       "0        123        Anna  01/03/2023   1800       anna@gmail.com\n",
       "1        456       Peter  03/09/2023   1800      peter@gmail.com\n",
       "2        789        John  05/12/2023   1800       john@gmail.com\n",
       "3        101        Dave  06/11/2023   1800       dave@gmail.com\n",
       "4        112      Jessie  07/02/2023   1800     jessie@gmail.com\n",
       "5        131       James  09/03/2023   1800      james@gmail.com\n",
       "6        415   Maarshall  22/04/2023   1800  maarshall@gmail.com\n",
       "7        161      Barney  28/11/2022   1800     barney@gmail.com\n",
       "8        718         Amy  24/05/2023   1800        amy@gmail.com\n",
       "9        192      Sophie  18/07/2023   1800     sophie@gmail.com\n",
       "10       221     Nicolas  17/10/2023   1800    nicolas@gmail.com"
      ]
     },
     "execution_count": 157,
     "metadata": {},
     "output_type": "execute_result"
    }
   ],
   "source": [
    "df = pd.DataFrame(data=new_row)\n",
    "df"
   ]
  },
  {
   "cell_type": "code",
   "execution_count": 158,
   "metadata": {
    "id": "aeX1zwIRAo5a"
   },
   "outputs": [],
   "source": [
    "# optional data input\n",
    "\n",
    "#j = int(input('adding clients (number): '))\n",
    "\n",
    "#for i in range(j):\n",
    "#    id = input('id: ')\n",
    "#    name = input('name: ')\n",
    "#    expire_date = input('expire(dd/mm/yyyy): ')\n",
    "#    email = input('email: ')\n",
    "#\n",
    "#\n",
    "#    new_row = {'client_id': id, 'client_name': name, 'expire_date': expire_date, 'value': value, 'email': email}\n",
    "#    df = df.append(new_row, ignore_index=True)\n",
    "#\n",
    "#print(df)"
   ]
  },
  {
   "cell_type": "code",
   "execution_count": 159,
   "metadata": {
    "id": "SKKh-WVkHhjV"
   },
   "outputs": [],
   "source": [
    "df['expire_date'] = pd.to_datetime(df['expire_date'], format='%d/%m/%Y')\n",
    "\n",
    "days = pd.DatetimeIndex(df['expire_date']).day\n",
    "months = pd.DatetimeIndex(df['expire_date']).month\n",
    "years = pd.DatetimeIndex(df['expire_date']).year\n",
    "date = pd.to_datetime(datetime.date.today())\n"
   ]
  },
  {
   "cell_type": "code",
   "execution_count": 160,
   "metadata": {
    "colab": {
     "base_uri": "https://localhost:8080/"
    },
    "id": "sBk5-zIcLJZ6",
    "outputId": "ec44b2dd-6f62-4baf-a32d-9c281d26b5e8"
   },
   "outputs": [
    {
     "name": "stdout",
     "output_type": "stream",
     "text": [
      "anna@gmail.com: Your title has expired for 30 days, with an accumulated value of: R$44.64.\n",
      "\n",
      "\n",
      "peter@gmail.com: Your title is expiring in 156 days.\n",
      "\n",
      "john@gmail.com: Your title is expiring in 249 days.\n",
      "\n",
      "dave@gmail.com: Your title is expiring in 220 days.\n",
      "\n",
      "jessie@gmail.com: Your title has expired for 52 days, with an accumulated value of: R$50.98.\n",
      "\n",
      "\n",
      "james@gmail.com: Your title has expired for 22 days, with an accumulated value of: R$42.34.\n",
      "\n",
      "\n",
      "maarshall@gmail.com: Your title is expiring in 22 days.\n",
      "\n",
      "barney@gmail.com: Your title has expired for 123 days, with an accumulated value of: R$71.42.\n",
      "\n",
      "\n",
      "amy@gmail.com: Your title is expiring in 54 days.\n",
      "\n",
      "sophie@gmail.com: Your title is expiring in 109 days.\n",
      "\n",
      "nicolas@gmail.com: Your title is expiring in 200 days.\n",
      "\n"
     ]
    }
   ],
   "source": [
    "for i in range(len(df)):\n",
    "    date = pd.to_datetime(datetime.date.today())\n",
    "\n",
    "    d = pd.to_numeric(days[i])\n",
    "    m = pd.to_numeric(months[i])\n",
    "    y = pd.to_numeric(years[i])\n",
    "\n",
    "    email = df.loc[i, 'email']\n",
    "    deadline_date = pd.to_datetime(df.loc[i, 'expire_date'], format='%d/%m/%Y')\n",
    "\n",
    "    term = (date - deadline_date)\n",
    "\n",
    "    if (deadline(d, m, y)):\n",
    "        days_delayed = (date - deadline_date)\n",
    "\n",
    "        debt = float(calc_debt(value, days_delayed.days))\n",
    "        df.loc[i, 'debt'] = multa \n",
    "        df.loc[i, 'situation'] = 'In debt'\n",
    "\n",
    "        print(f'{email}: Your title has expired for {int(days_delayed.days)} days, with an accumulated value of: R${float(debt):.2f}.\\n\\n')\n",
    "\n",
    "    else:\n",
    "        dias_atraso = 0\n",
    "        df.loc[i, 'debt'] = 0\n",
    "        df.loc[i, 'situation'] = 'Up to date'\n",
    "\n",
    "        print(f'{email}: Your title is expiring in {abs(term.days)} days.\\n')\n",
    "        \n",
    "        "
   ]
  },
  {
   "cell_type": "markdown",
   "metadata": {
    "id": "ngTVXbh0LoT4",
    "tags": [
     "statistics"
    ]
   },
   "source": [
    "## Some statistics: <a id='statistics'></a>"
   ]
  },
  {
   "cell_type": "code",
   "execution_count": 161,
   "metadata": {
    "colab": {
     "base_uri": "https://localhost:8080/"
    },
    "id": "RbS4ycIs32qZ",
    "outputId": "89914e07-361f-47fa-878d-00c9fc05666d"
   },
   "outputs": [
    {
     "name": "stdout",
     "output_type": "stream",
     "text": [
      "               debt\n",
      "debtor name        \n",
      "Anna         71.424\n",
      "Barney       71.424\n",
      "James        71.424\n",
      "Jessie       71.424\n",
      "\n",
      "in debt: 4\n",
      "regular: 7\n"
     ]
    }
   ],
   "source": [
    "debt = df.drop(df[df['debt'] == 0].index)\n",
    "#tabela dos 'vencedores'\n",
    "pivot = debt.pivot_table(index='client_name', values='debt')\n",
    "pivot = pivot.rename_axis('debtor name')\n",
    "print(pivot)\n",
    "\n",
    "print()\n",
    "in_debt = len(df[df['debt'] > 0])\n",
    "print(f'in debt: {in_debt}')\n",
    "regular = len(names) - in_debt\n",
    "print(f'regular: {regular}')"
   ]
  },
  {
   "cell_type": "code",
   "execution_count": 162,
   "metadata": {},
   "outputs": [
    {
     "data": {
      "text/plain": [
       "<AxesSubplot:>"
      ]
     },
     "execution_count": 162,
     "metadata": {},
     "output_type": "execute_result"
    },
    {
     "data": {
      "image/png": "[encoded data removed]",
      "text/plain": [
       "<Figure size 500x400 with 1 Axes>"
      ]
     },
     "metadata": {},
     "output_type": "display_data"
    }
   ],
   "source": [
    "import matplotlib.pyplot as plt\n",
    "df['situation'].value_counts().plot(kind='bar', color=['green', 'red'], figsize=(5, 4))"
   ]
  },
  {
   "cell_type": "markdown",
   "metadata": {},
   "source": [
    "made by nicolas, inspired by a college work that i saw opportunity to upgrade and come closer to practical reality\n",
    "- github: https://github.com/nlg18\n",
    "- linkedin: https://www.linkedin.com/in/nicolas-leite-4b088a268/"
   ]
  },
  {
   "cell_type": "code",
   "execution_count": null,
   "metadata": {},
   "outputs": [],
   "source": []
  }
 ],
 "metadata": {
  "colab": {
   "provenance": []
  },
  "kernelspec": {
   "display_name": "Python 3 (ipykernel)",
   "language": "python",
   "name": "python3"
  },
  "language_info": {
   "codemirror_mode": {
    "name": "ipython",
    "version": 3
   },
   "file_extension": ".py",
   "mimetype": "text/x-python",
   "name": "python",
   "nbconvert_exporter": "python",
   "pygments_lexer": "ipython3",
   "version": "3.9.13"
  }
 },
 "nbformat": 4,
 "nbformat_minor": 1
}
